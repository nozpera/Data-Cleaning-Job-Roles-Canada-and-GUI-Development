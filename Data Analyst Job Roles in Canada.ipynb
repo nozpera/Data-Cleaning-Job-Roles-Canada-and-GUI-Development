{
 "cells": [
  {
   "cell_type": "markdown",
   "id": "443516b1-7335-4518-b29e-f50df4ca3ba0",
   "metadata": {},
   "source": [
    "<img src='https://www.kaggle.com/static/images/site-logo.svg'\n",
    "    style='width:100px; float: right; margin: 0 10px 10px 10px'></img>\n",
    "# *Data Analyst Job Roles in Canada* \n",
    "<hr style='margin-bottom: 40px;'>\n",
    "<img src=\"https://www.iiba.org/contentassets/6855a0ee88044b6cabe767d7a49506ba/importance-of-the-bda-role-on-a-team-header.jpg\"\n",
    "    style=\"width:400px; float: right; margin: 0 40px 40px 40px;\"></img>\n",
    "\n",
    "##### 28/08/2024\n",
    "### Ahmad Ryan Permana\n",
    "[Follow this data in Kaggle](https://www.kaggle.com/datasets/amanbhattarai695/data-analyst-job-roles-in-canada)"
   ]
  },
  {
   "cell_type": "markdown",
   "id": "4c8ccef7-feb5-4139-96cb-c57da8cde18f",
   "metadata": {},
   "source": [
    "![purple-divider](https://user-images.githubusercontent.com/7065401/52071927-c1cd7100-2562-11e9-908a-dde91ba14e59.png)"
   ]
  },
  {
   "cell_type": "markdown",
   "id": "1c21dbb2-b72c-4dd9-846c-5a35af331e0f",
   "metadata": {},
   "source": [
    "## Research Objectives\n",
    "\n",
    "- Find out what Data Analyst positions and roles are currently most demand in Canada.\n",
    "- Find out the number and distribution of job openings for the role of data analyst across different regions in Canada.\n",
    "- Find out what skills are most commonly required by employers for data analyst roles in Canada.\n",
    "- Find out the salary ranges offered for data analyst roles in Canada, as well as how they may differ based on location or expected experience.\n",
    "\n",
    "## What is the problem?\n",
    "\n",
    "- What data analysis positions and roles are most in demand and sought after by employers in Canada?\n",
    "- How many job openings are there for data analyst roles in Canada, and how are they distributed by region?\n",
    "- What skills are most commonly required by employers for data analyst roles in Canada?\n",
    "- What salary ranges are offered for data analyst roles in Canada, and how do they differ based on location or experience?"
   ]
  },
  {
   "cell_type": "markdown",
   "id": "03219a76-b0ce-485e-ab2d-7db19df7b1a0",
   "metadata": {},
   "source": [
    "<hr style='margin-bottom: 10px;'>"
   ]
  },
  {
   "cell_type": "markdown",
   "id": "e3abf251-ff98-4b92-b12c-834b7f6693ee",
   "metadata": {
    "jp-MarkdownHeadingCollapsed": true
   },
   "source": [
    "### Package Library"
   ]
  },
  {
   "cell_type": "code",
   "execution_count": 1,
   "id": "3b036eea-11cc-4b9f-9cf9-0557880f051c",
   "metadata": {},
   "outputs": [
    {
     "name": "stdout",
     "output_type": "stream",
     "text": [
      "2.2.2\n",
      "2.0.1\n",
      "2.2.1\n"
     ]
    }
   ],
   "source": [
    "import pandas as pd\n",
    "import numpy as np\n",
    "import re\n",
    "import seaborn as sns\n",
    "import openpyxl\n",
    "from scipy.stats import gamma\n",
    "import matplotlib.pyplot as plt\n",
    "from main import MergeFunction, PreprocessingData, CheckData\n",
    "pd.options.mode.chained_assignment = None\n",
    "print(pd.__version__)\n",
    "print(np.__version__)\n",
    "print(re.__version__)"
   ]
  },
  {
   "cell_type": "markdown",
   "id": "3b3efcba-8bc8-4f95-a8b7-c0fde079c564",
   "metadata": {
    "jp-MarkdownHeadingCollapsed": true
   },
   "source": [
    "![green-divider](https://user-images.githubusercontent.com/7065401/52071924-c003ad80-2562-11e9-8297-1c6595f8a7ff.png)\n",
    "\n",
    "### Loading The Dataset"
   ]
  },
  {
   "cell_type": "code",
   "execution_count": 2,
   "id": "88f7fe3c-90ac-425d-a713-fa6b481967e5",
   "metadata": {},
   "outputs": [],
   "source": [
    "data = MergeFunction('Raw_Dataset.csv')"
   ]
  },
  {
   "cell_type": "code",
   "execution_count": 3,
   "id": "a1cb825a-bf44-42bb-a24e-7def0ee08cd3",
   "metadata": {
    "scrolled": true
   },
   "outputs": [
    {
     "name": "stdout",
     "output_type": "stream",
     "text": [
      "0 Job ID,Job Title,Company Name,Language and Tools,Job Salary,City,Province,Job Link\n",
      "\n",
      "1 job_9c7f38160c736c78,Binance Accelerator Program - Data Analyst (Risk),Binance,\"Python, Sql\",,Remote,,https://ca.indeed.com/rc/clk?jk=9c7f38160c736c78&bb=JmRuzeGvy_2zALhxc3MIarBRFhvpJXOqvUAT4gD16kUZBZqrZaincbr5w5GdeFRFR5lVtTDOSYG3qRaaNlxCUd9iAZ4zNGSHhliXAEOF9EZGPfKdnjt04V6CWqv09NoG&xkcb=SoBd67M39Kh62wxBJh0LbzkdCdPP&fccid=ac2ee5578fa99fc9&vjs=3\n",
      "\n",
      "2 job_0da15fed6a515fe5,Business Analyst,Canadian Nuclear Laboratories,\"Power Bi, Power BI, Excel\",,Remote,,https://ca.indeed.com/rc/clk?jk=0da15fed6a515fe5&bb=JmRuzeGvy_2zALhxc3MIapjGJCLVcfQuCXINMD0ZX2fshGsyE-WbuTySCweFufuqm7KUD9RgNijBjXW5Y4k44BE95OTVsCTPSV-_TqRmi8c76PdKhL3qNw%3D%3D&xkcb=SoDp67M39Kh62wxBJh0KbzkdCdPP&fccid=a0da53533519eae5&vjs=3\n",
      "\n",
      "3 job_2dc0470241aa6066,Geophysicist/Data Analyst,Sander Geophysics Limited,,,Ottawa,ON,https://ca.indeed.com/rc/clk?jk=2dc0470241aa6066&bb=JmRuzeGvy_2zALhxc3MIag9ccUAuLOW1Dzrh0SpILtfpCeYI0f2m_V0nJmm3ELKTjI6oUHs2jvoouZ1hcGXJwqz2OdTGrbbdrVEbiYnjEJZ0unmkp5Mtk3Blskfesl9l&xkcb=SoB067M39Kh62wxBJh0JbzkdCdPP&fccid=cf2319525eb667d8&cmp=Sander-Geophysics&ti=Data+Analyst&vjs=3\n",
      "\n",
      "4 job_cbbe0e29b236d2b5,Business Intelligence Data Engineer,\"Maximus Services, LLC\",\"Fabric, Power BI, Sql, Machine Learning, Genesys, Python, R, Database\",\"87,875Ã¢â‚¬â€œ$105,000 a year\",Toronto,ON,https://ca.indeed.com/rc/clk?jk=cbbe0e29b236d2b5&bb=JmRuzeGvy_2zALhxc3MIatIq34W5eTm_axhH1kaql3EmXHR3DzdSuFA7Wdl-Pw3WNq5e3idEgI6FFppSWY4vfgYXfeESy4Ds6AjbOFB-rVi-Kfwif1ZVHA%3D%3D&xkcb=SoDA67M39Kh62wxBJh0IbzkdCdPP&fccid=9ee077797b9fc8fe&vjs=3\n",
      "\n",
      "5 job_fe8ad423818b244a,\"BUSINESS INTELLIGENCE SPECIALIST, FT\",Niagara Health System,\"Azure, Power BI, SQL, Aws\",55.39Ã¢â‚¬â€œ$62.66 an hour,Niagara,ON,https://ca.indeed.com/rc/clk?jk=fe8ad423818b244a&bb=JmRuzeGvy_2zALhxc3MIasG6X7EALWLA2O_NSBRT0GAtAlidPagtu3JT4Rh7ciohYKOi3IHio7mv-y57yBy9boH8aWQljDqbOr-C5jPE-5wiHJO1vsTqvPyzpt502CeN&xkcb=SoBO67M39Kh62wxBJh0PbzkdCdPP&fccid=feb4e2a0ab007ccd&vjs=3\n",
      "\n",
      "6 job_f582e6a0bf265285,Continuous Improvement Analyst,IMP Group,Excel,,Abbotsford,BC,https://ca.indeed.com/rc/clk?jk=f582e6a0bf265285&bb=JmRuzeGvy_2zALhxc3MIahEL5AV6dtTZQr5PwsRIgNx1cUfsps60htAGAWpCPZqUaIpJVkyQWOGRieWMcz9DNN_0gFM8PiR_CiLro_FyuLYPJ5XmcWGvsr18D3R_AvXm&xkcb=SoD667M39Kh62wxBJh0ObzkdCdPP&fccid=ba7d94faed2f7137&vjs=3\n",
      "\n",
      "7 job_4eb5e7ad2131a6e4,IT Business Process Analyst,Ground Effects,\"C#, Javascript, Sql, Database\",,Windsor,ON,https://ca.indeed.com/rc/clk?jk=4eb5e7ad2131a6e4&bb=JmRuzeGvy_2zALhxc3MIaochWMWKCLOCKMLOI3LICmxboRAGvr9VokqvqQ3b8WwPQwNt4bHPguH5cDTX0ofhW_p7c4XnY1x4D6iDabp3fTU4a1KOcGNs_xEke-O-D4H6&xkcb=SoBn67M39Kh62wxBJh0NbzkdCdPP&fccid=79f22e5df24ef159&cmp=Ground-Effects-Limited-%28CA%29&ti=Business+Process+Analyst&vjs=3\n",
      "\n",
      "8 job_2653c4c869003710,Computer Programmer/Analyst,The City of Vancouver,\"Database, Sql, Power Platform, Ssis, Azure, Ssrs, Git, .Net, Python, Javascript\",\"43.82Ã¢â‚¬â€œ$51.78 an hour, 43.82 to $, 51.78 per hour\",Vancouver,BC,https://ca.indeed.com/rc/clk?jk=2653c4c869003710&bb=JmRuzeGvy_2zALhxc3MIam-QkbHBs9IxEWS2X8Vq5lYcBWBv-xsWaa48GYKxE4gvXFo-NyT7906-gqi4svyc_OS9p7FhZbUp2AURPk3g1vcpm8pLztjtIWJrVfvTl4fh&xkcb=SoDT67M39Kh62wxBJh0MbzkdCdPP&fccid=3d91f889655d303e&vjs=3\n",
      "\n",
      "9 job_77bbb022de94357b,\"Senior Developer, Business Intelligence\",Ontario Health,\"Power Bi, Power Platform, Ssis, Sql, Big Data, Sas, Ssrs, Azure, Python, R\",,Toronto,ON,https://ca.indeed.com/rc/clk?jk=77bbb022de94357b&bb=JmRuzeGvy_2zALhxc3MIai4zqMfhwYpEFXwkrOhgvkwGCbq6fmLSzeBm95non9TUU6hfVIIbRwvm2CobVtucMiJ_asWcYu57NXO6CDnFyPlL_s5Y6F4Xj0vHjws5l_GU9ErPgelxJV8%3D&xkcb=SoA667M39Kh62wxBJh0DbzkdCdPP&fccid=942edb5b2679caa0&vjs=3\n",
      "\n"
     ]
    }
   ],
   "source": [
    "data.OpenData"
   ]
  },
  {
   "cell_type": "code",
   "execution_count": 4,
   "id": "9806aa76-b0f3-425b-9fef-187297177c3f",
   "metadata": {},
   "outputs": [
    {
     "data": {
      "text/html": [
       "<div>\n",
       "<style scoped>\n",
       "    .dataframe tbody tr th:only-of-type {\n",
       "        vertical-align: middle;\n",
       "    }\n",
       "\n",
       "    .dataframe tbody tr th {\n",
       "        vertical-align: top;\n",
       "    }\n",
       "\n",
       "    .dataframe thead th {\n",
       "        text-align: right;\n",
       "    }\n",
       "</style>\n",
       "<table border=\"1\" class=\"dataframe\">\n",
       "  <thead>\n",
       "    <tr style=\"text-align: right;\">\n",
       "      <th></th>\n",
       "      <th>Job ID</th>\n",
       "      <th>Job Title</th>\n",
       "      <th>Company Name</th>\n",
       "      <th>Language and Tools</th>\n",
       "      <th>Job Salary</th>\n",
       "      <th>City</th>\n",
       "      <th>Province</th>\n",
       "      <th>Job Link</th>\n",
       "    </tr>\n",
       "  </thead>\n",
       "  <tbody>\n",
       "    <tr>\n",
       "      <th>0</th>\n",
       "      <td>job_9c7f38160c736c78</td>\n",
       "      <td>Binance Accelerator Program - Data Analyst (Risk)</td>\n",
       "      <td>Binance</td>\n",
       "      <td>Python, Sql</td>\n",
       "      <td>NaN</td>\n",
       "      <td>Remote</td>\n",
       "      <td>NaN</td>\n",
       "      <td>https://ca.indeed.com/rc/clk?jk=9c7f38160c736c...</td>\n",
       "    </tr>\n",
       "    <tr>\n",
       "      <th>1</th>\n",
       "      <td>job_0da15fed6a515fe5</td>\n",
       "      <td>Business Analyst</td>\n",
       "      <td>Canadian Nuclear Laboratories</td>\n",
       "      <td>Power Bi, Power BI, Excel</td>\n",
       "      <td>NaN</td>\n",
       "      <td>Remote</td>\n",
       "      <td>NaN</td>\n",
       "      <td>https://ca.indeed.com/rc/clk?jk=0da15fed6a515f...</td>\n",
       "    </tr>\n",
       "    <tr>\n",
       "      <th>2</th>\n",
       "      <td>job_2dc0470241aa6066</td>\n",
       "      <td>Geophysicist/Data Analyst</td>\n",
       "      <td>Sander Geophysics Limited</td>\n",
       "      <td>NaN</td>\n",
       "      <td>NaN</td>\n",
       "      <td>Ottawa</td>\n",
       "      <td>ON</td>\n",
       "      <td>https://ca.indeed.com/rc/clk?jk=2dc0470241aa60...</td>\n",
       "    </tr>\n",
       "    <tr>\n",
       "      <th>3</th>\n",
       "      <td>job_cbbe0e29b236d2b5</td>\n",
       "      <td>Business Intelligence Data Engineer</td>\n",
       "      <td>Maximus Services, LLC</td>\n",
       "      <td>Fabric, Power BI, Sql, Machine Learning, Genes...</td>\n",
       "      <td>87,875Ã¢â‚¬â€œ$105,000 a year</td>\n",
       "      <td>Toronto</td>\n",
       "      <td>ON</td>\n",
       "      <td>https://ca.indeed.com/rc/clk?jk=cbbe0e29b236d2...</td>\n",
       "    </tr>\n",
       "    <tr>\n",
       "      <th>4</th>\n",
       "      <td>job_fe8ad423818b244a</td>\n",
       "      <td>BUSINESS INTELLIGENCE SPECIALIST, FT</td>\n",
       "      <td>Niagara Health System</td>\n",
       "      <td>Azure, Power BI, SQL, Aws</td>\n",
       "      <td>55.39Ã¢â‚¬â€œ$62.66 an hour</td>\n",
       "      <td>Niagara</td>\n",
       "      <td>ON</td>\n",
       "      <td>https://ca.indeed.com/rc/clk?jk=fe8ad423818b24...</td>\n",
       "    </tr>\n",
       "  </tbody>\n",
       "</table>\n",
       "</div>"
      ],
      "text/plain": [
       "                 Job ID                                          Job Title  \\\n",
       "0  job_9c7f38160c736c78  Binance Accelerator Program - Data Analyst (Risk)   \n",
       "1  job_0da15fed6a515fe5                                   Business Analyst   \n",
       "2  job_2dc0470241aa6066                          Geophysicist/Data Analyst   \n",
       "3  job_cbbe0e29b236d2b5                Business Intelligence Data Engineer   \n",
       "4  job_fe8ad423818b244a               BUSINESS INTELLIGENCE SPECIALIST, FT   \n",
       "\n",
       "                    Company Name  \\\n",
       "0                        Binance   \n",
       "1  Canadian Nuclear Laboratories   \n",
       "2      Sander Geophysics Limited   \n",
       "3          Maximus Services, LLC   \n",
       "4          Niagara Health System   \n",
       "\n",
       "                                  Language and Tools  \\\n",
       "0                                        Python, Sql   \n",
       "1                          Power Bi, Power BI, Excel   \n",
       "2                                                NaN   \n",
       "3  Fabric, Power BI, Sql, Machine Learning, Genes...   \n",
       "4                          Azure, Power BI, SQL, Aws   \n",
       "\n",
       "                      Job Salary     City Province  \\\n",
       "0                            NaN   Remote      NaN   \n",
       "1                            NaN   Remote      NaN   \n",
       "2                            NaN   Ottawa       ON   \n",
       "3  87,875Ã¢â‚¬â€œ$105,000 a year  Toronto       ON   \n",
       "4    55.39Ã¢â‚¬â€œ$62.66 an hour  Niagara       ON   \n",
       "\n",
       "                                            Job Link  \n",
       "0  https://ca.indeed.com/rc/clk?jk=9c7f38160c736c...  \n",
       "1  https://ca.indeed.com/rc/clk?jk=0da15fed6a515f...  \n",
       "2  https://ca.indeed.com/rc/clk?jk=2dc0470241aa60...  \n",
       "3  https://ca.indeed.com/rc/clk?jk=cbbe0e29b236d2...  \n",
       "4  https://ca.indeed.com/rc/clk?jk=fe8ad423818b24...  "
      ]
     },
     "execution_count": 4,
     "metadata": {},
     "output_type": "execute_result"
    }
   ],
   "source": [
    "data.LoadData.head()"
   ]
  },
  {
   "cell_type": "markdown",
   "id": "8ca3efb2-b716-4603-8913-2b0e740fd85b",
   "metadata": {
    "jp-MarkdownHeadingCollapsed": true
   },
   "source": [
    "![green-divider](https://user-images.githubusercontent.com/7065401/52071924-c003ad80-2562-11e9-8297-1c6595f8a7ff.png)\n",
    "\n",
    "### Information About The Dataset"
   ]
  },
  {
   "cell_type": "code",
   "execution_count": 5,
   "id": "36c11734-3977-476e-9c5b-2e985898daa4",
   "metadata": {},
   "outputs": [
    {
     "name": "stdout",
     "output_type": "stream",
     "text": [
      "<class 'pandas.core.frame.DataFrame'>\n",
      "RangeIndex: 1796 entries, 0 to 1795\n",
      "Data columns (total 8 columns):\n",
      " #   Column              Non-Null Count  Dtype \n",
      "---  ------              --------------  ----- \n",
      " 0   Job ID              1796 non-null   object\n",
      " 1   Job Title           1796 non-null   object\n",
      " 2   Company Name        1796 non-null   object\n",
      " 3   Language and Tools  1629 non-null   object\n",
      " 4   Job Salary          1239 non-null   object\n",
      " 5   City                1796 non-null   object\n",
      " 6   Province            1678 non-null   object\n",
      " 7   Job Link            1796 non-null   object\n",
      "dtypes: object(8)\n",
      "memory usage: 112.4+ KB\n"
     ]
    }
   ],
   "source": [
    "data.InfoData"
   ]
  },
  {
   "cell_type": "markdown",
   "id": "63b2a2c7-9458-450e-841b-795d6c147e0f",
   "metadata": {},
   "source": [
    "##### Missing Values"
   ]
  },
  {
   "cell_type": "code",
   "execution_count": 6,
   "id": "edf66ae9-2a13-499f-9cc1-d10c61bf31f6",
   "metadata": {},
   "outputs": [
    {
     "data": {
      "text/plain": [
       "Job ID                  0\n",
       "Job Title               0\n",
       "Company Name            0\n",
       "Language and Tools    167\n",
       "Job Salary            557\n",
       "City                    0\n",
       "Province              118\n",
       "Job Link                0\n",
       "dtype: int64"
      ]
     },
     "execution_count": 6,
     "metadata": {},
     "output_type": "execute_result"
    }
   ],
   "source": [
    "data.FinalData.isnull().sum()"
   ]
  },
  {
   "cell_type": "markdown",
   "id": "a1f90de2-3612-43d4-9854-cfca1b2e3c8e",
   "metadata": {
    "jp-MarkdownHeadingCollapsed": true
   },
   "source": [
    "![green-divider](https://user-images.githubusercontent.com/7065401/52071924-c003ad80-2562-11e9-8297-1c6595f8a7ff.png)\n",
    "\n",
    "### Preprocessing The Dataset"
   ]
  },
  {
   "cell_type": "markdown",
   "id": "15bbf856-8475-4750-8a16-46c026a4b61e",
   "metadata": {},
   "source": [
    "##### Delete Job ID & Job Link Columns"
   ]
  },
  {
   "cell_type": "code",
   "execution_count": 7,
   "id": "be2b1b82-889f-4fd9-a437-ac913af3dfa2",
   "metadata": {
    "scrolled": true
   },
   "outputs": [],
   "source": [
    "data.DeleteCols(['Job ID', 'Job Link'])"
   ]
  },
  {
   "cell_type": "markdown",
   "id": "96ba9277-ba1c-4657-ba83-0b4887aee2ca",
   "metadata": {},
   "source": [
    "##### Rename Column and Fill The Missing Values"
   ]
  },
  {
   "cell_type": "code",
   "execution_count": 8,
   "id": "39fe1cfb-6bcb-4912-82c4-78bec4195a9a",
   "metadata": {},
   "outputs": [],
   "source": [
    "data.RenameCols({'Company Name':'Company', 'Language and Tools':'Skill', 'Job Salary':'Salary'})"
   ]
  },
  {
   "cell_type": "code",
   "execution_count": 9,
   "id": "a0938dd8-28d8-4204-9803-0a8d82dbf0ba",
   "metadata": {},
   "outputs": [],
   "source": [
    "data.FillNa({'Skill' : 'Undef' , 'Salary' : 'Undef', 'Province' : 'Undef'})"
   ]
  },
  {
   "cell_type": "code",
   "execution_count": 10,
   "id": "a4c53e8c-5e57-410b-9a89-345df599deed",
   "metadata": {},
   "outputs": [
    {
     "data": {
      "text/plain": [
       "Job Title    0\n",
       "Company      0\n",
       "Skill        0\n",
       "Salary       0\n",
       "City         0\n",
       "Province     0\n",
       "dtype: int64"
      ]
     },
     "execution_count": 10,
     "metadata": {},
     "output_type": "execute_result"
    }
   ],
   "source": [
    "data.FinalData.isnull().sum()"
   ]
  },
  {
   "cell_type": "markdown",
   "id": "da9ac02c-d6f0-4908-a01b-b2f9086f1b0c",
   "metadata": {},
   "source": [
    "##### Remove Duplicate Data"
   ]
  },
  {
   "cell_type": "code",
   "execution_count": 11,
   "id": "4eeccf3b-6a5c-4a57-978d-f79d98254388",
   "metadata": {
    "scrolled": true
   },
   "outputs": [
    {
     "data": {
      "text/html": [
       "<div>\n",
       "<style scoped>\n",
       "    .dataframe tbody tr th:only-of-type {\n",
       "        vertical-align: middle;\n",
       "    }\n",
       "\n",
       "    .dataframe tbody tr th {\n",
       "        vertical-align: top;\n",
       "    }\n",
       "\n",
       "    .dataframe thead th {\n",
       "        text-align: right;\n",
       "    }\n",
       "</style>\n",
       "<table border=\"1\" class=\"dataframe\">\n",
       "  <thead>\n",
       "    <tr style=\"text-align: right;\">\n",
       "      <th></th>\n",
       "      <th>Job Title</th>\n",
       "      <th>Company</th>\n",
       "      <th>Skill</th>\n",
       "      <th>Salary</th>\n",
       "      <th>City</th>\n",
       "      <th>Province</th>\n",
       "    </tr>\n",
       "  </thead>\n",
       "  <tbody>\n",
       "    <tr>\n",
       "      <th>10</th>\n",
       "      <td>OPGT MOD Ã¢â‚¬â€œ ONE (1) BUSINESS ANALYST Ã¢â...</td>\n",
       "      <td>Softline Technology</td>\n",
       "      <td>Sql, Gap, Power BI</td>\n",
       "      <td>Undef</td>\n",
       "      <td>Toronto</td>\n",
       "      <td>ON</td>\n",
       "    </tr>\n",
       "    <tr>\n",
       "      <th>11</th>\n",
       "      <td>OPGT MOD Ã¢â‚¬â€œ ONE (1) BUSINESS ANALYST Ã¢â...</td>\n",
       "      <td>Softline Technology</td>\n",
       "      <td>Sql, Gap, Power BI</td>\n",
       "      <td>Undef</td>\n",
       "      <td>Toronto</td>\n",
       "      <td>ON</td>\n",
       "    </tr>\n",
       "    <tr>\n",
       "      <th>29</th>\n",
       "      <td>Business Analyst</td>\n",
       "      <td>Banff Caribou Properties Ltd.</td>\n",
       "      <td>Sql</td>\n",
       "      <td>Undef</td>\n",
       "      <td>Banff</td>\n",
       "      <td>AB</td>\n",
       "    </tr>\n",
       "    <tr>\n",
       "      <th>32</th>\n",
       "      <td>Business Analyst</td>\n",
       "      <td>Banff Caribou Properties Ltd.</td>\n",
       "      <td>Sql</td>\n",
       "      <td>Undef</td>\n",
       "      <td>Banff</td>\n",
       "      <td>AB</td>\n",
       "    </tr>\n",
       "    <tr>\n",
       "      <th>34</th>\n",
       "      <td>Business Analyst</td>\n",
       "      <td>Banff Caribou Properties Ltd.</td>\n",
       "      <td>Sql</td>\n",
       "      <td>Undef</td>\n",
       "      <td>Banff</td>\n",
       "      <td>AB</td>\n",
       "    </tr>\n",
       "    <tr>\n",
       "      <th>...</th>\n",
       "      <td>...</td>\n",
       "      <td>...</td>\n",
       "      <td>...</td>\n",
       "      <td>...</td>\n",
       "      <td>...</td>\n",
       "      <td>...</td>\n",
       "    </tr>\n",
       "    <tr>\n",
       "      <th>975</th>\n",
       "      <td>Business Intelligence (BI) Specialist</td>\n",
       "      <td>Hi-Flyer Food (Canada), Inc.</td>\n",
       "      <td>Sql, Database</td>\n",
       "      <td>8,200Ã¢â‚¬â€œ$9,500 a month, 8,200.00-$9,500.0...</td>\n",
       "      <td>Calgary</td>\n",
       "      <td>AB</td>\n",
       "    </tr>\n",
       "    <tr>\n",
       "      <th>976</th>\n",
       "      <td>Sr. Data Analyst</td>\n",
       "      <td>Railserve, Inc.</td>\n",
       "      <td>Tableau, Sql, Power Bi, Python, R</td>\n",
       "      <td>85,000 a year, 85,000.00 per year</td>\n",
       "      <td>Edmonton</td>\n",
       "      <td>AB</td>\n",
       "    </tr>\n",
       "    <tr>\n",
       "      <th>977</th>\n",
       "      <td>Continuous Improvement Analyst</td>\n",
       "      <td>Gay Lea Foods</td>\n",
       "      <td>Excel</td>\n",
       "      <td>Undef</td>\n",
       "      <td>Teeswater</td>\n",
       "      <td>ON</td>\n",
       "    </tr>\n",
       "    <tr>\n",
       "      <th>1395</th>\n",
       "      <td>Senior Data and Insights Analyst</td>\n",
       "      <td>BCAA</td>\n",
       "      <td>Python, Power BI, SQL, Microsoft Outlook, R</td>\n",
       "      <td>$86K - $107K(Employer Est.)</td>\n",
       "      <td>Burnaby</td>\n",
       "      <td>BC</td>\n",
       "    </tr>\n",
       "    <tr>\n",
       "      <th>1786</th>\n",
       "      <td>Asset Investment Analyst</td>\n",
       "      <td>Toronto Hydro</td>\n",
       "      <td>Microsoft Access, Relational databases, R, Alt...</td>\n",
       "      <td>$60K - $100K(Glassdoor Est.)</td>\n",
       "      <td>Toronto</td>\n",
       "      <td>ON</td>\n",
       "    </tr>\n",
       "  </tbody>\n",
       "</table>\n",
       "<p>140 rows × 6 columns</p>\n",
       "</div>"
      ],
      "text/plain": [
       "                                              Job Title  \\\n",
       "10    OPGT MOD Ã¢â‚¬â€œ ONE (1) BUSINESS ANALYST Ã¢â...   \n",
       "11    OPGT MOD Ã¢â‚¬â€œ ONE (1) BUSINESS ANALYST Ã¢â...   \n",
       "29                                     Business Analyst   \n",
       "32                                     Business Analyst   \n",
       "34                                     Business Analyst   \n",
       "...                                                 ...   \n",
       "975               Business Intelligence (BI) Specialist   \n",
       "976                                    Sr. Data Analyst   \n",
       "977                      Continuous Improvement Analyst   \n",
       "1395                   Senior Data and Insights Analyst   \n",
       "1786                           Asset Investment Analyst   \n",
       "\n",
       "                            Company  \\\n",
       "10              Softline Technology   \n",
       "11              Softline Technology   \n",
       "29    Banff Caribou Properties Ltd.   \n",
       "32    Banff Caribou Properties Ltd.   \n",
       "34    Banff Caribou Properties Ltd.   \n",
       "...                             ...   \n",
       "975    Hi-Flyer Food (Canada), Inc.   \n",
       "976                 Railserve, Inc.   \n",
       "977                   Gay Lea Foods   \n",
       "1395                           BCAA   \n",
       "1786                  Toronto Hydro   \n",
       "\n",
       "                                                  Skill  \\\n",
       "10                                   Sql, Gap, Power BI   \n",
       "11                                   Sql, Gap, Power BI   \n",
       "29                                                  Sql   \n",
       "32                                                  Sql   \n",
       "34                                                  Sql   \n",
       "...                                                 ...   \n",
       "975                                       Sql, Database   \n",
       "976                   Tableau, Sql, Power Bi, Python, R   \n",
       "977                                               Excel   \n",
       "1395        Python, Power BI, SQL, Microsoft Outlook, R   \n",
       "1786  Microsoft Access, Relational databases, R, Alt...   \n",
       "\n",
       "                                                 Salary       City Province  \n",
       "10                                                Undef    Toronto       ON  \n",
       "11                                                Undef    Toronto       ON  \n",
       "29                                                Undef      Banff       AB  \n",
       "32                                                Undef      Banff       AB  \n",
       "34                                                Undef      Banff       AB  \n",
       "...                                                 ...        ...      ...  \n",
       "975   8,200Ã¢â‚¬â€œ$9,500 a month, 8,200.00-$9,500.0...    Calgary       AB  \n",
       "976                   85,000 a year, 85,000.00 per year   Edmonton       AB  \n",
       "977                                               Undef  Teeswater       ON  \n",
       "1395                        $86K - $107K(Employer Est.)    Burnaby       BC  \n",
       "1786                       $60K - $100K(Glassdoor Est.)    Toronto       ON  \n",
       "\n",
       "[140 rows x 6 columns]"
      ]
     },
     "execution_count": 11,
     "metadata": {},
     "output_type": "execute_result"
    }
   ],
   "source": [
    "data.CheckDuplicatedData"
   ]
  },
  {
   "cell_type": "code",
   "execution_count": 12,
   "id": "16386fce-3599-49e6-b556-e86fb35b999a",
   "metadata": {},
   "outputs": [],
   "source": [
    "data.DropDuplicatedData"
   ]
  },
  {
   "cell_type": "code",
   "execution_count": 13,
   "id": "734338fc-77ea-48e5-a5c6-c93ff3bc7bd3",
   "metadata": {},
   "outputs": [
    {
     "name": "stdout",
     "output_type": "stream",
     "text": [
      "<class 'pandas.core.frame.DataFrame'>\n",
      "RangeIndex: 1656 entries, 0 to 1655\n",
      "Data columns (total 6 columns):\n",
      " #   Column     Non-Null Count  Dtype \n",
      "---  ------     --------------  ----- \n",
      " 0   Job Title  1656 non-null   object\n",
      " 1   Company    1656 non-null   object\n",
      " 2   Skill      1656 non-null   object\n",
      " 3   Salary     1656 non-null   object\n",
      " 4   City       1656 non-null   object\n",
      " 5   Province   1656 non-null   object\n",
      "dtypes: object(6)\n",
      "memory usage: 77.8+ KB\n"
     ]
    }
   ],
   "source": [
    "data.FinalData.info()"
   ]
  },
  {
   "cell_type": "markdown",
   "id": "d54b26a8-9408-4297-bc46-49349062108a",
   "metadata": {},
   "source": [
    "##### Remove Unique Character "
   ]
  },
  {
   "cell_type": "code",
   "execution_count": 14,
   "id": "728ebe94-1f7a-4719-8ba4-df6c86560bef",
   "metadata": {},
   "outputs": [
    {
     "data": {
      "text/plain": [
       "['Job Title', 'Company', 'Salary', 'City']"
      ]
     },
     "execution_count": 14,
     "metadata": {},
     "output_type": "execute_result"
    }
   ],
   "source": [
    "data.FindUniqueCols(r'Ã')"
   ]
  },
  {
   "cell_type": "code",
   "execution_count": 15,
   "id": "b9e66fcb-b5c5-4d06-be77-0c356614e441",
   "metadata": {},
   "outputs": [],
   "source": [
    "char_map = ({\n",
    "    'Ã¢â‚¬â€œ':'–',\n",
    "    'ÃƒÂ¢Ã¢â€šÂ¬Ã¢â‚¬Å“':'–',\n",
    "    'ÃƒÂ©':'é',\n",
    "    'ÃƒÂ¶':'ö',\n",
    "    \"'Senior\":'Senior',\n",
    "    'Ã¢â‚¬â„¢':\"’\",\n",
    "    'ÃƒÂ\\xa0':'à',\n",
    "    'ÃƒÂ®':'î',\n",
    "    'ÃƒÂ¨':'è',\n",
    "    'ÃƒÆ’Ã‚Â©':'é',\n",
    "    'ÃƒÆ’Ã‚Â\\xa0':'à',\n",
    "    'ÃƒÆ’Ã‚Â®':'î',\n",
    "    'ÃƒÆ’Ã‚Â¶':'ö',\n",
    "    'ÃƒÆ’Ã‚Â¨':'é',\n",
    "    'ÃƒÆ’Ã¢â‚¬Â°':'É'\n",
    "})\n",
    "data.ReplaceUniqueChar(['Job Title', 'Company', 'City'], char_map) "
   ]
  },
  {
   "cell_type": "markdown",
   "id": "6fe8c263-a06b-4f65-aae3-61cf2da530e4",
   "metadata": {},
   "source": [
    "**Special Case**"
   ]
  },
  {
   "cell_type": "code",
   "execution_count": 16,
   "id": "36d630e0-2c7a-4945-a428-8244407e6cf2",
   "metadata": {},
   "outputs": [],
   "source": [
    "data.SpecialCaseChar('Â¦–Ã', 'Job Title', 'Remote Project Training Tutor (Business Intelligence Direction)', 'assignment')"
   ]
  },
  {
   "cell_type": "code",
   "execution_count": 17,
   "id": "a28c8020-ebaa-4d8e-b120-7430c9ea02a7",
   "metadata": {},
   "outputs": [],
   "source": [
    "data.SpecialCaseChar('Montreal', 'City', 'é', 'replace', old_char = 'e')"
   ]
  },
  {
   "cell_type": "code",
   "execution_count": 18,
   "id": "11ce0ce6-490d-4e1e-80f1-5a254edd061e",
   "metadata": {},
   "outputs": [],
   "source": [
    "data.StrTitle('Job Title')"
   ]
  },
  {
   "cell_type": "markdown",
   "id": "801d1279-6f42-4c32-8e73-98a96a447d35",
   "metadata": {},
   "source": [
    "##### Add & Fill Values for New Column"
   ]
  },
  {
   "cell_type": "code",
   "execution_count": 19,
   "id": "daea23a0-befa-471d-a419-75d19aae54ea",
   "metadata": {},
   "outputs": [],
   "source": [
    "keyword_positions = (\n",
    "    {'Data Analyst':'Data Analyst',\n",
    "     'System':'Systems Analyst',\n",
    "     'Policy':'Policy Analyst',\n",
    "     'Engineer':'Data Engineer',\n",
    "     'QA':'QA Analyst',\n",
    "     'Manufacturing':'Manufacture Analyst',\n",
    "     r'AI|artificial intelligence':'AI Analyst',\n",
    "     'Model':'Model Analyst',\n",
    "     'Strategy':'Strategy Analyst',\n",
    "     'IT':'IT Analyst',\n",
    "     r'Business Analyst|Business':'Business Analyst',\n",
    "     'Business Intelligence Analyst':'BI Analyst',\n",
    "     'Consultant':'Data Consultant',\n",
    "     'Risk':'Risk Analyst',\n",
    "     'Payroll Analyst':'Payroll Analyst',\n",
    "     'Research':'Research Analyst',\n",
    "     'Lead':'Lead',\n",
    "     'Specialist':'Data Specialist',\n",
    "     'Developer':'Developer',\n",
    "     'Programmer':'Programmer',\n",
    "     'Database':'Database Analyst',\n",
    "     'Quantitative':'Quantitative Analyst',\n",
    "     'Architect':'Data Architect',\n",
    "     'Logistic':'Logistic Analyst',\n",
    "     'Tutor':'Educator'})\n",
    "keyword_work_type = ({\n",
    "    'Remote':'Remote',\n",
    "    'Hybrid':'Hybrid'\n",
    "})\n",
    "# Junior (0-1 year experience) Associate/Mid (2-5 year experience) Senior ( > 5 year experience )\n",
    "keyword_seniority = ({\n",
    "    r'Senior|Sr|Lead|Specialist|Advanced|Principal':'Senior',\n",
    "    r'Junior|Jr|Intern':'Junior',\n",
    "    r'Associate|Intermediate':'Mid'\n",
    "})\n",
    "keyword_job_type = ({\n",
    "    r'Intern|Contract':'Part-Time'\n",
    "})\n",
    "keyword_industry_type = ({\n",
    "    r'Health|Cancer|Medic|Pharma|Clinic':'Healthcare',\n",
    "    'Binance':'Cryptocurrency Exchange',\n",
    "    'Service':'Service',\n",
    "    'Environment':'Environment',\n",
    "    r'Mining|Logistics':'Freeport',\n",
    "    'Industries':'Industry',\n",
    "    'Agency':'Agency',\n",
    "    'Survey':'Surveyor',\n",
    "    r'Tech|Vancouver|Authority|Inc|Corporation|Software':'Technology',\n",
    "    r'Insurance|Life|Assurance':'Insurance',\n",
    "    r'Bank|Financial|Invest':'Finance',\n",
    "    r'Energy|Power':'Energy',\n",
    "    r'Motor|Carbon':'Automotive',\n",
    "    r'College|University|School|Education':'Education',\n",
    "    r'Development|Construction|Engineering':'Construction',\n",
    "    r'Solution|Consul|Strategy':'Consulting',\n",
    "    'Land':'Real Estate',\n",
    "    r'Train|Transportation|Aviation|Transport':'Transportation',\n",
    "    'Aerospace':'Aerospace',\n",
    "    r'Reader|Uni|Entertainment':'Media',\n",
    "    r'City|Government|Allstate|Country':'Government',\n",
    "    r'Industri|Manufactur':'Manufacturing',\n",
    "    'Travel':'Travel',\n",
    "    r'Retail|E-commerce':'Retail',\n",
    "    'Agriculture':'Agriculture',\n",
    "    'Agribusines':'Agribusiness',\n",
    "    r'Laboratories|Nuclear':'Research',\n",
    "    \n",
    "})\n",
    "\n",
    "data.AddFillCols(1, 'Job Title', 'Position', keyword_positions, 1, 'Analyst')\n",
    "data.AddFillCols(2, 'Job Title', 'Work Type', keyword_work_type, 5, 'In-Person', key_cols2 = 'City')\n",
    "data.AddFillCols(1, 'Job Title', 'Seniority', keyword_seniority, 6, 'ANY')\n",
    "data.AddFillCols(1, 'Job Title', 'Job Type', keyword_job_type, 3, 'Full-Time')\n",
    "data.AddFillCols(1, 'Company', 'Industry Type', keyword_industry_type, 7, 'Others')"
   ]
  },
  {
   "cell_type": "code",
   "execution_count": 20,
   "id": "d0cf7d8a-af93-4b4e-b8d3-92610c517c56",
   "metadata": {},
   "outputs": [],
   "source": [
    "data.SpecialCaseChar('IT', 'Company', 'Technology', 'custom', custom_cols='Industry Type')"
   ]
  },
  {
   "cell_type": "code",
   "execution_count": 21,
   "id": "a0b4e9c1-6545-46ab-8869-d711ec7a4d64",
   "metadata": {},
   "outputs": [],
   "source": [
    "data.ReplaceChar('City', 'Remote in ', '')"
   ]
  },
  {
   "cell_type": "markdown",
   "id": "a7d59191-a37c-49ba-a92d-6905deb32334",
   "metadata": {},
   "source": [
    "##### Cleaned Salary Column"
   ]
  },
  {
   "cell_type": "code",
   "execution_count": 22,
   "id": "a0221bf2-c8d4-4155-909e-cdee97a91e3f",
   "metadata": {},
   "outputs": [],
   "source": [
    "keymap_salary = ({\n",
    "    r'\\Ã¢â‚¬\\s*â€œ*':' - ',\n",
    "    'Ãƒâ€šÃ‚Â\\xa0':' '\n",
    "})\n",
    "data.ReplaceUniqueChar(['Salary'], keymap_salary)"
   ]
  },
  {
   "cell_type": "code",
   "execution_count": 23,
   "id": "b25dd55c-3ac4-4d02-ae08-5a7c117f32c8",
   "metadata": {},
   "outputs": [
    {
     "data": {
      "text/plain": [
       "0                         Undef\n",
       "1                         Undef\n",
       "2                         Undef\n",
       "3       87,875 - 105,000 a year\n",
       "4         55.39 - 62.66 an hour\n",
       "                 ...           \n",
       "1651             67000 - 102000\n",
       "1652             94000 - 110000\n",
       "1653              86000 - 94000\n",
       "1654              52000 - 59000\n",
       "1655             72000 - 153000\n",
       "Name: Salary, Length: 1656, dtype: object"
      ]
     },
     "execution_count": 23,
     "metadata": {},
     "output_type": "execute_result"
    }
   ],
   "source": [
    "data.ApplyFunction('CleanedSalary', 'Salary')"
   ]
  },
  {
   "cell_type": "code",
   "execution_count": 24,
   "id": "79d89892-070c-491a-b2e0-ad223f100323",
   "metadata": {},
   "outputs": [],
   "source": [
    "data.FixedSalary('hour', convert_time=2080)\n",
    "data.FixedSalary('month', convert_time=12)\n",
    "data.FixedSalary('week', convert_time=52)\n",
    "data.FixedSalary('day')"
   ]
  },
  {
   "cell_type": "code",
   "execution_count": 25,
   "id": "8e090a44-2a0d-45ea-8c5e-daeac5d550ea",
   "metadata": {},
   "outputs": [
    {
     "data": {
      "text/plain": [
       "0               Undef\n",
       "1               Undef\n",
       "2               Undef\n",
       "3        87875 105000\n",
       "4       115211 130332\n",
       "            ...      \n",
       "1651     67000 102000\n",
       "1652     94000 110000\n",
       "1653      86000 94000\n",
       "1654      52000 59000\n",
       "1655     72000 153000\n",
       "Name: Salary, Length: 1656, dtype: object"
      ]
     },
     "execution_count": 25,
     "metadata": {},
     "output_type": "execute_result"
    }
   ],
   "source": [
    "data.ApplyFunction('FinalFixedSalary', 'Salary')"
   ]
  },
  {
   "cell_type": "code",
   "execution_count": 26,
   "id": "3aafa558-b06b-4707-9def-15969dfcb04e",
   "metadata": {},
   "outputs": [],
   "source": [
    "data.SpecialCaseSalary"
   ]
  },
  {
   "cell_type": "code",
   "execution_count": 27,
   "id": "0b21a29f-81b6-4b9c-83af-956ff63d7b1a",
   "metadata": {},
   "outputs": [
    {
     "data": {
      "text/plain": [
       "0        Undef\n",
       "1        Undef\n",
       "2        Undef\n",
       "3        87875\n",
       "4       115211\n",
       "         ...  \n",
       "1651     67000\n",
       "1652     94000\n",
       "1653     86000\n",
       "1654     52000\n",
       "1655     72000\n",
       "Name: Min Salary, Length: 1656, dtype: object"
      ]
     },
     "execution_count": 27,
     "metadata": {},
     "output_type": "execute_result"
    }
   ],
   "source": [
    "data.ApplyFunction('MinSalary', 'Salary', new_cols='Min Salary')"
   ]
  },
  {
   "cell_type": "code",
   "execution_count": 28,
   "id": "0e00630b-2b39-4f6b-83b2-30cc89c0af34",
   "metadata": {},
   "outputs": [
    {
     "data": {
      "text/plain": [
       "0        Undef\n",
       "1        Undef\n",
       "2        Undef\n",
       "3       105000\n",
       "4       130332\n",
       "         ...  \n",
       "1651    102000\n",
       "1652    110000\n",
       "1653     94000\n",
       "1654     59000\n",
       "1655    153000\n",
       "Name: Max Salary, Length: 1656, dtype: object"
      ]
     },
     "execution_count": 28,
     "metadata": {},
     "output_type": "execute_result"
    }
   ],
   "source": [
    "data.ApplyFunction('MaxSalary', 'Salary', new_cols='Max Salary')"
   ]
  },
  {
   "cell_type": "code",
   "execution_count": 29,
   "id": "8b2e14fe-aac3-4792-b8c0-5e45f8eaf674",
   "metadata": {},
   "outputs": [],
   "source": [
    "data.SalaryToNumeric"
   ]
  },
  {
   "cell_type": "code",
   "execution_count": 30,
   "id": "32ab7c4e-5139-4e36-b12d-5f89e1011b30",
   "metadata": {},
   "outputs": [],
   "source": [
    "data.FinalData.drop(columns=['Salary'], inplace=True)"
   ]
  },
  {
   "cell_type": "code",
   "execution_count": 31,
   "id": "9d3a728e-cdc2-4725-87a5-40f68c3bb754",
   "metadata": {},
   "outputs": [],
   "source": [
    "data = data.FinalData"
   ]
  },
  {
   "cell_type": "code",
   "execution_count": 32,
   "id": "44a97be6-4349-4757-a0a0-dfdc3fa42092",
   "metadata": {},
   "outputs": [
    {
     "data": {
      "text/html": [
       "<div>\n",
       "<style scoped>\n",
       "    .dataframe tbody tr th:only-of-type {\n",
       "        vertical-align: middle;\n",
       "    }\n",
       "\n",
       "    .dataframe tbody tr th {\n",
       "        vertical-align: top;\n",
       "    }\n",
       "\n",
       "    .dataframe thead th {\n",
       "        text-align: right;\n",
       "    }\n",
       "</style>\n",
       "<table border=\"1\" class=\"dataframe\">\n",
       "  <thead>\n",
       "    <tr style=\"text-align: right;\">\n",
       "      <th></th>\n",
       "      <th>Job Title</th>\n",
       "      <th>Position</th>\n",
       "      <th>Company</th>\n",
       "      <th>Job Type</th>\n",
       "      <th>Skill</th>\n",
       "      <th>Work Type</th>\n",
       "      <th>Industry Type</th>\n",
       "      <th>Seniority</th>\n",
       "      <th>City</th>\n",
       "      <th>Province</th>\n",
       "      <th>Min Salary</th>\n",
       "      <th>Max Salary</th>\n",
       "    </tr>\n",
       "  </thead>\n",
       "  <tbody>\n",
       "    <tr>\n",
       "      <th>0</th>\n",
       "      <td>Binance Accelerator Program - Data Analyst (Risk)</td>\n",
       "      <td>Data Analyst</td>\n",
       "      <td>Binance</td>\n",
       "      <td>Full-Time</td>\n",
       "      <td>Python, Sql</td>\n",
       "      <td>Remote</td>\n",
       "      <td>Cryptocurrency Exchange</td>\n",
       "      <td>ANY</td>\n",
       "      <td>Remote</td>\n",
       "      <td>Undef</td>\n",
       "      <td>NaN</td>\n",
       "      <td>NaN</td>\n",
       "    </tr>\n",
       "    <tr>\n",
       "      <th>1</th>\n",
       "      <td>Business Analyst</td>\n",
       "      <td>Business Analyst</td>\n",
       "      <td>Canadian Nuclear Laboratories</td>\n",
       "      <td>Full-Time</td>\n",
       "      <td>Power Bi, Power BI, Excel</td>\n",
       "      <td>Remote</td>\n",
       "      <td>Research</td>\n",
       "      <td>ANY</td>\n",
       "      <td>Remote</td>\n",
       "      <td>Undef</td>\n",
       "      <td>NaN</td>\n",
       "      <td>NaN</td>\n",
       "    </tr>\n",
       "    <tr>\n",
       "      <th>2</th>\n",
       "      <td>Geophysicist/Data Analyst</td>\n",
       "      <td>Data Analyst</td>\n",
       "      <td>Sander Geophysics Limited</td>\n",
       "      <td>Full-Time</td>\n",
       "      <td>Undef</td>\n",
       "      <td>In-Person</td>\n",
       "      <td>Others</td>\n",
       "      <td>ANY</td>\n",
       "      <td>Ottawa</td>\n",
       "      <td>ON</td>\n",
       "      <td>NaN</td>\n",
       "      <td>NaN</td>\n",
       "    </tr>\n",
       "    <tr>\n",
       "      <th>3</th>\n",
       "      <td>Business Intelligence Data Engineer</td>\n",
       "      <td>Data Engineer</td>\n",
       "      <td>Maximus Services, LLC</td>\n",
       "      <td>Full-Time</td>\n",
       "      <td>Fabric, Power BI, Sql, Machine Learning, Genes...</td>\n",
       "      <td>In-Person</td>\n",
       "      <td>Service</td>\n",
       "      <td>ANY</td>\n",
       "      <td>Toronto</td>\n",
       "      <td>ON</td>\n",
       "      <td>87875.0</td>\n",
       "      <td>105000.0</td>\n",
       "    </tr>\n",
       "    <tr>\n",
       "      <th>4</th>\n",
       "      <td>Business Intelligence Specialist, Ft</td>\n",
       "      <td>Business Analyst</td>\n",
       "      <td>Niagara Health System</td>\n",
       "      <td>Full-Time</td>\n",
       "      <td>Azure, Power BI, SQL, Aws</td>\n",
       "      <td>In-Person</td>\n",
       "      <td>Healthcare</td>\n",
       "      <td>Senior</td>\n",
       "      <td>Niagara</td>\n",
       "      <td>ON</td>\n",
       "      <td>115211.0</td>\n",
       "      <td>130332.0</td>\n",
       "    </tr>\n",
       "    <tr>\n",
       "      <th>...</th>\n",
       "      <td>...</td>\n",
       "      <td>...</td>\n",
       "      <td>...</td>\n",
       "      <td>...</td>\n",
       "      <td>...</td>\n",
       "      <td>...</td>\n",
       "      <td>...</td>\n",
       "      <td>...</td>\n",
       "      <td>...</td>\n",
       "      <td>...</td>\n",
       "      <td>...</td>\n",
       "      <td>...</td>\n",
       "    </tr>\n",
       "    <tr>\n",
       "      <th>1651</th>\n",
       "      <td>Im Business Analyst</td>\n",
       "      <td>Business Analyst</td>\n",
       "      <td>Messa</td>\n",
       "      <td>Full-Time</td>\n",
       "      <td>Information architecture</td>\n",
       "      <td>In-Person</td>\n",
       "      <td>Others</td>\n",
       "      <td>ANY</td>\n",
       "      <td>Ottawa</td>\n",
       "      <td>ON</td>\n",
       "      <td>67000.0</td>\n",
       "      <td>102000.0</td>\n",
       "    </tr>\n",
       "    <tr>\n",
       "      <th>1652</th>\n",
       "      <td>Risk Analyst, Third Party Risk Management</td>\n",
       "      <td>Risk Analyst</td>\n",
       "      <td>Aviva</td>\n",
       "      <td>Full-Time</td>\n",
       "      <td>SQL, Operational risk management, Vendor manag...</td>\n",
       "      <td>In-Person</td>\n",
       "      <td>Others</td>\n",
       "      <td>ANY</td>\n",
       "      <td>Markham</td>\n",
       "      <td>ON</td>\n",
       "      <td>94000.0</td>\n",
       "      <td>110000.0</td>\n",
       "    </tr>\n",
       "    <tr>\n",
       "      <th>1653</th>\n",
       "      <td>Business Intelligence Analyst</td>\n",
       "      <td>Business Analyst</td>\n",
       "      <td>Clio</td>\n",
       "      <td>Full-Time</td>\n",
       "      <td>Power BI, Data modeling, Business intelligence...</td>\n",
       "      <td>In-Person</td>\n",
       "      <td>Others</td>\n",
       "      <td>ANY</td>\n",
       "      <td>Vancouver</td>\n",
       "      <td>BC</td>\n",
       "      <td>86000.0</td>\n",
       "      <td>94000.0</td>\n",
       "    </tr>\n",
       "    <tr>\n",
       "      <th>1654</th>\n",
       "      <td>Analyst, Supply Chain Replenishment</td>\n",
       "      <td>AI Analyst</td>\n",
       "      <td>Loblaw Companies Limited</td>\n",
       "      <td>Full-Time</td>\n",
       "      <td>SQL, SAP, Computer skills, Marketing, Workday</td>\n",
       "      <td>In-Person</td>\n",
       "      <td>Others</td>\n",
       "      <td>ANY</td>\n",
       "      <td>Brampton</td>\n",
       "      <td>ON</td>\n",
       "      <td>52000.0</td>\n",
       "      <td>59000.0</td>\n",
       "    </tr>\n",
       "    <tr>\n",
       "      <th>1655</th>\n",
       "      <td>Project Controls Analyst</td>\n",
       "      <td>Analyst</td>\n",
       "      <td>Suncor Energy</td>\n",
       "      <td>Full-Time</td>\n",
       "      <td>Investment, Power BI, SQL, SAP, Office Suite</td>\n",
       "      <td>In-Person</td>\n",
       "      <td>Energy</td>\n",
       "      <td>ANY</td>\n",
       "      <td>Fort McMurray</td>\n",
       "      <td>AB</td>\n",
       "      <td>72000.0</td>\n",
       "      <td>153000.0</td>\n",
       "    </tr>\n",
       "  </tbody>\n",
       "</table>\n",
       "<p>1656 rows × 12 columns</p>\n",
       "</div>"
      ],
      "text/plain": [
       "                                              Job Title          Position  \\\n",
       "0     Binance Accelerator Program - Data Analyst (Risk)      Data Analyst   \n",
       "1                                      Business Analyst  Business Analyst   \n",
       "2                             Geophysicist/Data Analyst      Data Analyst   \n",
       "3                   Business Intelligence Data Engineer     Data Engineer   \n",
       "4                  Business Intelligence Specialist, Ft  Business Analyst   \n",
       "...                                                 ...               ...   \n",
       "1651                                Im Business Analyst  Business Analyst   \n",
       "1652          Risk Analyst, Third Party Risk Management      Risk Analyst   \n",
       "1653                      Business Intelligence Analyst  Business Analyst   \n",
       "1654                Analyst, Supply Chain Replenishment        AI Analyst   \n",
       "1655                           Project Controls Analyst           Analyst   \n",
       "\n",
       "                            Company   Job Type  \\\n",
       "0                           Binance  Full-Time   \n",
       "1     Canadian Nuclear Laboratories  Full-Time   \n",
       "2         Sander Geophysics Limited  Full-Time   \n",
       "3             Maximus Services, LLC  Full-Time   \n",
       "4             Niagara Health System  Full-Time   \n",
       "...                             ...        ...   \n",
       "1651                          Messa  Full-Time   \n",
       "1652                          Aviva  Full-Time   \n",
       "1653                           Clio  Full-Time   \n",
       "1654       Loblaw Companies Limited  Full-Time   \n",
       "1655                  Suncor Energy  Full-Time   \n",
       "\n",
       "                                                  Skill  Work Type  \\\n",
       "0                                           Python, Sql     Remote   \n",
       "1                             Power Bi, Power BI, Excel     Remote   \n",
       "2                                                 Undef  In-Person   \n",
       "3     Fabric, Power BI, Sql, Machine Learning, Genes...  In-Person   \n",
       "4                             Azure, Power BI, SQL, Aws  In-Person   \n",
       "...                                                 ...        ...   \n",
       "1651                           Information architecture  In-Person   \n",
       "1652  SQL, Operational risk management, Vendor manag...  In-Person   \n",
       "1653  Power BI, Data modeling, Business intelligence...  In-Person   \n",
       "1654      SQL, SAP, Computer skills, Marketing, Workday  In-Person   \n",
       "1655       Investment, Power BI, SQL, SAP, Office Suite  In-Person   \n",
       "\n",
       "                Industry Type Seniority           City Province  Min Salary  \\\n",
       "0     Cryptocurrency Exchange       ANY         Remote    Undef         NaN   \n",
       "1                    Research       ANY         Remote    Undef         NaN   \n",
       "2                      Others       ANY         Ottawa       ON         NaN   \n",
       "3                     Service       ANY        Toronto       ON     87875.0   \n",
       "4                  Healthcare    Senior        Niagara       ON    115211.0   \n",
       "...                       ...       ...            ...      ...         ...   \n",
       "1651                   Others       ANY         Ottawa       ON     67000.0   \n",
       "1652                   Others       ANY        Markham       ON     94000.0   \n",
       "1653                   Others       ANY      Vancouver       BC     86000.0   \n",
       "1654                   Others       ANY       Brampton       ON     52000.0   \n",
       "1655                   Energy       ANY  Fort McMurray       AB     72000.0   \n",
       "\n",
       "      Max Salary  \n",
       "0            NaN  \n",
       "1            NaN  \n",
       "2            NaN  \n",
       "3       105000.0  \n",
       "4       130332.0  \n",
       "...          ...  \n",
       "1651    102000.0  \n",
       "1652    110000.0  \n",
       "1653     94000.0  \n",
       "1654     59000.0  \n",
       "1655    153000.0  \n",
       "\n",
       "[1656 rows x 12 columns]"
      ]
     },
     "execution_count": 32,
     "metadata": {},
     "output_type": "execute_result"
    }
   ],
   "source": [
    "data"
   ]
  },
  {
   "cell_type": "markdown",
   "id": "ef62d8d5-e5ab-4d10-9820-e934de58e938",
   "metadata": {},
   "source": [
    "#### Handle Outlier"
   ]
  },
  {
   "cell_type": "code",
   "execution_count": 33,
   "id": "d4f0aaf3-d491-4f29-925d-89230e75dc37",
   "metadata": {},
   "outputs": [
    {
     "data": {
      "text/html": [
       "<div>\n",
       "<style scoped>\n",
       "    .dataframe tbody tr th:only-of-type {\n",
       "        vertical-align: middle;\n",
       "    }\n",
       "\n",
       "    .dataframe tbody tr th {\n",
       "        vertical-align: top;\n",
       "    }\n",
       "\n",
       "    .dataframe thead th {\n",
       "        text-align: right;\n",
       "    }\n",
       "</style>\n",
       "<table border=\"1\" class=\"dataframe\">\n",
       "  <thead>\n",
       "    <tr style=\"text-align: right;\">\n",
       "      <th></th>\n",
       "      <th>Job Title</th>\n",
       "      <th>Position</th>\n",
       "      <th>Company</th>\n",
       "      <th>Job Type</th>\n",
       "      <th>Skill</th>\n",
       "      <th>Work Type</th>\n",
       "      <th>Industry Type</th>\n",
       "      <th>Seniority</th>\n",
       "      <th>City</th>\n",
       "      <th>Province</th>\n",
       "      <th>Min Salary</th>\n",
       "      <th>Max Salary</th>\n",
       "    </tr>\n",
       "  </thead>\n",
       "  <tbody>\n",
       "    <tr>\n",
       "      <th>423</th>\n",
       "      <td>Analyste Spécialisé En Informatique/ Specializ...</td>\n",
       "      <td>Data Analyst</td>\n",
       "      <td>Ungava Tulattavik Health Center</td>\n",
       "      <td>Full-Time</td>\n",
       "      <td>Notion</td>\n",
       "      <td>In-Person</td>\n",
       "      <td>Healthcare</td>\n",
       "      <td>ANY</td>\n",
       "      <td>Quebec City</td>\n",
       "      <td>QC</td>\n",
       "      <td>723476.0</td>\n",
       "      <td>NaN</td>\n",
       "    </tr>\n",
       "    <tr>\n",
       "      <th>1340</th>\n",
       "      <td>Analyste Spécialisé En Informatique/ Specializ...</td>\n",
       "      <td>Data Analyst</td>\n",
       "      <td>Ungava Tulattavik Health Center</td>\n",
       "      <td>Full-Time</td>\n",
       "      <td>Bilingual, Tableau, Python, Chef</td>\n",
       "      <td>In-Person</td>\n",
       "      <td>Healthcare</td>\n",
       "      <td>ANY</td>\n",
       "      <td>Quebec</td>\n",
       "      <td>QC</td>\n",
       "      <td>461593.0</td>\n",
       "      <td>NaN</td>\n",
       "    </tr>\n",
       "    <tr>\n",
       "      <th>1479</th>\n",
       "      <td>Analyste Spécialisé En Informatique - Cyberséc...</td>\n",
       "      <td>Data Analyst</td>\n",
       "      <td>Ungava Tulattavik Health Center</td>\n",
       "      <td>Full-Time</td>\n",
       "      <td>Bilingual, Tableau, Python, Chef</td>\n",
       "      <td>In-Person</td>\n",
       "      <td>Healthcare</td>\n",
       "      <td>ANY</td>\n",
       "      <td>Quebec</td>\n",
       "      <td>QC</td>\n",
       "      <td>461593.0</td>\n",
       "      <td>NaN</td>\n",
       "    </tr>\n",
       "  </tbody>\n",
       "</table>\n",
       "</div>"
      ],
      "text/plain": [
       "                                              Job Title      Position  \\\n",
       "423   Analyste Spécialisé En Informatique/ Specializ...  Data Analyst   \n",
       "1340  Analyste Spécialisé En Informatique/ Specializ...  Data Analyst   \n",
       "1479  Analyste Spécialisé En Informatique - Cyberséc...  Data Analyst   \n",
       "\n",
       "                              Company   Job Type  \\\n",
       "423   Ungava Tulattavik Health Center  Full-Time   \n",
       "1340  Ungava Tulattavik Health Center  Full-Time   \n",
       "1479  Ungava Tulattavik Health Center  Full-Time   \n",
       "\n",
       "                                 Skill  Work Type Industry Type Seniority  \\\n",
       "423                             Notion  In-Person    Healthcare       ANY   \n",
       "1340  Bilingual, Tableau, Python, Chef  In-Person    Healthcare       ANY   \n",
       "1479  Bilingual, Tableau, Python, Chef  In-Person    Healthcare       ANY   \n",
       "\n",
       "             City Province  Min Salary  Max Salary  \n",
       "423   Quebec City       QC    723476.0         NaN  \n",
       "1340       Quebec       QC    461593.0         NaN  \n",
       "1479       Quebec       QC    461593.0         NaN  "
      ]
     },
     "execution_count": 33,
     "metadata": {},
     "output_type": "execute_result"
    }
   ],
   "source": [
    "data[(data['Min Salary'] > 200000) | (data['Min Salary'] < 0)]"
   ]
  },
  {
   "cell_type": "code",
   "execution_count": 34,
   "id": "3b678d18-6879-4377-b56e-255d6658b8bd",
   "metadata": {},
   "outputs": [
    {
     "data": {
      "text/html": [
       "<div>\n",
       "<style scoped>\n",
       "    .dataframe tbody tr th:only-of-type {\n",
       "        vertical-align: middle;\n",
       "    }\n",
       "\n",
       "    .dataframe tbody tr th {\n",
       "        vertical-align: top;\n",
       "    }\n",
       "\n",
       "    .dataframe thead th {\n",
       "        text-align: right;\n",
       "    }\n",
       "</style>\n",
       "<table border=\"1\" class=\"dataframe\">\n",
       "  <thead>\n",
       "    <tr style=\"text-align: right;\">\n",
       "      <th></th>\n",
       "      <th>Job Title</th>\n",
       "      <th>Position</th>\n",
       "      <th>Company</th>\n",
       "      <th>Job Type</th>\n",
       "      <th>Skill</th>\n",
       "      <th>Work Type</th>\n",
       "      <th>Industry Type</th>\n",
       "      <th>Seniority</th>\n",
       "      <th>City</th>\n",
       "      <th>Province</th>\n",
       "      <th>Min Salary</th>\n",
       "      <th>Max Salary</th>\n",
       "    </tr>\n",
       "  </thead>\n",
       "  <tbody>\n",
       "    <tr>\n",
       "      <th>377</th>\n",
       "      <td>Geospatial Analyst</td>\n",
       "      <td>Analyst</td>\n",
       "      <td>Government of Alberta</td>\n",
       "      <td>Full-Time</td>\n",
       "      <td>Swift, Python, R</td>\n",
       "      <td>In-Person</td>\n",
       "      <td>Government</td>\n",
       "      <td>ANY</td>\n",
       "      <td>Edmonton</td>\n",
       "      <td>AB</td>\n",
       "      <td>64662.0</td>\n",
       "      <td>843845.0</td>\n",
       "    </tr>\n",
       "  </tbody>\n",
       "</table>\n",
       "</div>"
      ],
      "text/plain": [
       "              Job Title Position                Company   Job Type  \\\n",
       "377  Geospatial Analyst  Analyst  Government of Alberta  Full-Time   \n",
       "\n",
       "                Skill  Work Type Industry Type Seniority      City Province  \\\n",
       "377  Swift, Python, R  In-Person    Government       ANY  Edmonton       AB   \n",
       "\n",
       "     Min Salary  Max Salary  \n",
       "377     64662.0    843845.0  "
      ]
     },
     "execution_count": 34,
     "metadata": {},
     "output_type": "execute_result"
    }
   ],
   "source": [
    "data[(data['Max Salary'] > 300000) | (data['Max Salary'] < 0)]"
   ]
  },
  {
   "cell_type": "code",
   "execution_count": 35,
   "id": "05a1d889-fa44-4616-a765-11a6726bb30c",
   "metadata": {},
   "outputs": [],
   "source": [
    "index_min = list(data[(data['Min Salary'] > 200000) | (data['Min Salary'] < 0)].index)\n",
    "index_max = list(data[(data['Max Salary'] > 300000) | (data['Max Salary'] < 0)].index)\n",
    "index = index_min + index_max\n",
    "index.sort()\n",
    "data.drop(index, inplace = True)\n",
    "data = data.reset_index(drop = True)"
   ]
  },
  {
   "cell_type": "markdown",
   "id": "e031d2be-6f72-4a48-9a16-f6c1ef08a4bc",
   "metadata": {},
   "source": [
    "#### Handle Missing Values"
   ]
  },
  {
   "cell_type": "code",
   "execution_count": 36,
   "id": "a5034bdf-1753-4dc8-ab81-ba9ca33c45c0",
   "metadata": {},
   "outputs": [],
   "source": [
    "def analyze_missing_vals(data):\n",
    "    columns = data.columns\n",
    "    for cols in columns:\n",
    "        if data[cols].isnull().sum() > 0:\n",
    "            missing_count = data[cols].isnull().sum()\n",
    "            missing_percent = (missing_count/len(data)) * 100\n",
    "            print('Cols : {}\\tMissing Values Count : {}\\tPercentage of Missing Values : {}'.format(cols, missing_count, missing_percent))"
   ]
  },
  {
   "cell_type": "code",
   "execution_count": 37,
   "id": "5901a2b8-e911-4b12-9bc8-68be83817a4d",
   "metadata": {},
   "outputs": [
    {
     "name": "stdout",
     "output_type": "stream",
     "text": [
      "Cols : Min Salary\tMissing Values Count : 567\tPercentage of Missing Values : 34.32203389830508\n",
      "Cols : Max Salary\tMissing Values Count : 809\tPercentage of Missing Values : 48.97094430992736\n"
     ]
    }
   ],
   "source": [
    "analyze_missing_vals(data)"
   ]
  },
  {
   "cell_type": "code",
   "execution_count": 38,
   "id": "9a3e2769-3fdb-4710-a9a5-154b6372a962",
   "metadata": {},
   "outputs": [],
   "source": [
    "def gamma_imputation(data):\n",
    "    df = data[['Min Salary', 'Max Salary']].copy()\n",
    "    np.random.seed(0)\n",
    "\n",
    "    for column in df.columns:\n",
    "        available_data = df[column].dropna()\n",
    "        shape, loc, scale = gamma.fit(available_data, floc=0)\n",
    "        missing_indices = df[column].index[df[column].isna()]\n",
    "        for idx in missing_indices:\n",
    "            random_value = gamma.rvs(shape, loc=loc, scale=scale)\n",
    "            if column == 'Max Salary':\n",
    "                while random_value <= df.at[idx, 'Min Salary']:\n",
    "                    random_value = gamma.rvs(shape, loc=loc, scale=scale)\n",
    "            df.at[idx, column] = random_value  \n",
    "    return df.round(0)\n",
    "    \n",
    "result_df = gamma_imputation(data)"
   ]
  },
  {
   "cell_type": "code",
   "execution_count": 39,
   "id": "be058634-2bd9-4935-8a9d-314675344091",
   "metadata": {},
   "outputs": [
    {
     "data": {
      "text/plain": [
       "Text(0.5, 1.0, \"Max Salary's Distribution (After)\")"
      ]
     },
     "execution_count": 39,
     "metadata": {},
     "output_type": "execute_result"
    },
    {
     "data": {
      "image/png": "[encoded data removed]",
      "text/plain": [
       "<Figure size 1800x2400 with 4 Axes>"
      ]
     },
     "metadata": {},
     "output_type": "display_data"
    }
   ],
   "source": [
    "plt.figure(figsize=(18,24))\n",
    "\n",
    "plt.subplot(4,2,1)\n",
    "sns.histplot(data['Min Salary'], kde=True)\n",
    "plt.title(\"Min Salary's Distribution (Before)\")\n",
    "\n",
    "plt.subplot(4,2,2)\n",
    "sns.histplot(data['Max Salary'], kde=True)\n",
    "plt.title(\"Max Salary's Distribution (Before)\")\n",
    "\n",
    "plt.subplot(4,2,3)\n",
    "sns.histplot(result_df['Min Salary'], kde=True)\n",
    "plt.title(\"Min Salary's Distribution (After)\")\n",
    "\n",
    "plt.subplot(4,2,4)\n",
    "sns.histplot(result_df['Max Salary'], kde=True)\n",
    "plt.title(\"Max Salary's Distribution (After)\")"
   ]
  },
  {
   "cell_type": "code",
   "execution_count": 40,
   "id": "a3531455-a3a5-4513-bf5e-d125cdd8f7c5",
   "metadata": {},
   "outputs": [],
   "source": [
    "data['Min Salary'] = result_df['Min Salary']\n",
    "data['Max Salary'] = result_df['Max Salary']"
   ]
  },
  {
   "cell_type": "code",
   "execution_count": 41,
   "id": "6c3747df-6804-48a7-bfbb-61d07d4b3324",
   "metadata": {},
   "outputs": [
    {
     "data": {
      "text/plain": [
       "0       127369.0\n",
       "1        88317.5\n",
       "2       119121.0\n",
       "3        96437.5\n",
       "4       122771.5\n",
       "          ...   \n",
       "1647     84500.0\n",
       "1648    102000.0\n",
       "1649     90000.0\n",
       "1650     55500.0\n",
       "1651    112500.0\n",
       "Name: Average Salary, Length: 1652, dtype: float64"
      ]
     },
     "execution_count": 41,
     "metadata": {},
     "output_type": "execute_result"
    }
   ],
   "source": [
    "def average_salary(data, new_cols):\n",
    "    for index in range(len(data)):\n",
    "        average = (data['Min Salary'] + data['Max Salary'])/2\n",
    "        data[new_cols] = average\n",
    "        return data[new_cols]\n",
    "average_salary(data, 'Average Salary')"
   ]
  },
  {
   "cell_type": "code",
   "execution_count": 42,
   "id": "ef40c675-1e90-404c-8c88-6d5b7f5d73d8",
   "metadata": {},
   "outputs": [
    {
     "data": {
      "text/html": [
       "<div>\n",
       "<style scoped>\n",
       "    .dataframe tbody tr th:only-of-type {\n",
       "        vertical-align: middle;\n",
       "    }\n",
       "\n",
       "    .dataframe tbody tr th {\n",
       "        vertical-align: top;\n",
       "    }\n",
       "\n",
       "    .dataframe thead th {\n",
       "        text-align: right;\n",
       "    }\n",
       "</style>\n",
       "<table border=\"1\" class=\"dataframe\">\n",
       "  <thead>\n",
       "    <tr style=\"text-align: right;\">\n",
       "      <th></th>\n",
       "      <th>Job Title</th>\n",
       "      <th>Position</th>\n",
       "      <th>Company</th>\n",
       "      <th>Job Type</th>\n",
       "      <th>Skill</th>\n",
       "      <th>Work Type</th>\n",
       "      <th>Industry Type</th>\n",
       "      <th>Seniority</th>\n",
       "      <th>City</th>\n",
       "      <th>Province</th>\n",
       "      <th>Min Salary</th>\n",
       "      <th>Max Salary</th>\n",
       "      <th>Average Salary</th>\n",
       "    </tr>\n",
       "  </thead>\n",
       "  <tbody>\n",
       "    <tr>\n",
       "      <th>0</th>\n",
       "      <td>Binance Accelerator Program - Data Analyst (Risk)</td>\n",
       "      <td>Data Analyst</td>\n",
       "      <td>Binance</td>\n",
       "      <td>Full-Time</td>\n",
       "      <td>Python, Sql</td>\n",
       "      <td>Remote</td>\n",
       "      <td>Cryptocurrency Exchange</td>\n",
       "      <td>ANY</td>\n",
       "      <td>Remote</td>\n",
       "      <td>Undef</td>\n",
       "      <td>113750.0</td>\n",
       "      <td>140988.0</td>\n",
       "      <td>127369.0</td>\n",
       "    </tr>\n",
       "    <tr>\n",
       "      <th>1</th>\n",
       "      <td>Business Analyst</td>\n",
       "      <td>Business Analyst</td>\n",
       "      <td>Canadian Nuclear Laboratories</td>\n",
       "      <td>Full-Time</td>\n",
       "      <td>Power Bi, Power BI, Excel</td>\n",
       "      <td>Remote</td>\n",
       "      <td>Research</td>\n",
       "      <td>ANY</td>\n",
       "      <td>Remote</td>\n",
       "      <td>Undef</td>\n",
       "      <td>79185.0</td>\n",
       "      <td>97450.0</td>\n",
       "      <td>88317.5</td>\n",
       "    </tr>\n",
       "    <tr>\n",
       "      <th>2</th>\n",
       "      <td>Geophysicist/Data Analyst</td>\n",
       "      <td>Data Analyst</td>\n",
       "      <td>Sander Geophysics Limited</td>\n",
       "      <td>Full-Time</td>\n",
       "      <td>Undef</td>\n",
       "      <td>In-Person</td>\n",
       "      <td>Others</td>\n",
       "      <td>ANY</td>\n",
       "      <td>Ottawa</td>\n",
       "      <td>ON</td>\n",
       "      <td>116721.0</td>\n",
       "      <td>121521.0</td>\n",
       "      <td>119121.0</td>\n",
       "    </tr>\n",
       "    <tr>\n",
       "      <th>3</th>\n",
       "      <td>Business Intelligence Data Engineer</td>\n",
       "      <td>Data Engineer</td>\n",
       "      <td>Maximus Services, LLC</td>\n",
       "      <td>Full-Time</td>\n",
       "      <td>Fabric, Power BI, Sql, Machine Learning, Genes...</td>\n",
       "      <td>In-Person</td>\n",
       "      <td>Service</td>\n",
       "      <td>ANY</td>\n",
       "      <td>Toronto</td>\n",
       "      <td>ON</td>\n",
       "      <td>87875.0</td>\n",
       "      <td>105000.0</td>\n",
       "      <td>96437.5</td>\n",
       "    </tr>\n",
       "    <tr>\n",
       "      <th>4</th>\n",
       "      <td>Business Intelligence Specialist, Ft</td>\n",
       "      <td>Business Analyst</td>\n",
       "      <td>Niagara Health System</td>\n",
       "      <td>Full-Time</td>\n",
       "      <td>Azure, Power BI, SQL, Aws</td>\n",
       "      <td>In-Person</td>\n",
       "      <td>Healthcare</td>\n",
       "      <td>Senior</td>\n",
       "      <td>Niagara</td>\n",
       "      <td>ON</td>\n",
       "      <td>115211.0</td>\n",
       "      <td>130332.0</td>\n",
       "      <td>122771.5</td>\n",
       "    </tr>\n",
       "    <tr>\n",
       "      <th>...</th>\n",
       "      <td>...</td>\n",
       "      <td>...</td>\n",
       "      <td>...</td>\n",
       "      <td>...</td>\n",
       "      <td>...</td>\n",
       "      <td>...</td>\n",
       "      <td>...</td>\n",
       "      <td>...</td>\n",
       "      <td>...</td>\n",
       "      <td>...</td>\n",
       "      <td>...</td>\n",
       "      <td>...</td>\n",
       "      <td>...</td>\n",
       "    </tr>\n",
       "    <tr>\n",
       "      <th>1647</th>\n",
       "      <td>Im Business Analyst</td>\n",
       "      <td>Business Analyst</td>\n",
       "      <td>Messa</td>\n",
       "      <td>Full-Time</td>\n",
       "      <td>Information architecture</td>\n",
       "      <td>In-Person</td>\n",
       "      <td>Others</td>\n",
       "      <td>ANY</td>\n",
       "      <td>Ottawa</td>\n",
       "      <td>ON</td>\n",
       "      <td>67000.0</td>\n",
       "      <td>102000.0</td>\n",
       "      <td>84500.0</td>\n",
       "    </tr>\n",
       "    <tr>\n",
       "      <th>1648</th>\n",
       "      <td>Risk Analyst, Third Party Risk Management</td>\n",
       "      <td>Risk Analyst</td>\n",
       "      <td>Aviva</td>\n",
       "      <td>Full-Time</td>\n",
       "      <td>SQL, Operational risk management, Vendor manag...</td>\n",
       "      <td>In-Person</td>\n",
       "      <td>Others</td>\n",
       "      <td>ANY</td>\n",
       "      <td>Markham</td>\n",
       "      <td>ON</td>\n",
       "      <td>94000.0</td>\n",
       "      <td>110000.0</td>\n",
       "      <td>102000.0</td>\n",
       "    </tr>\n",
       "    <tr>\n",
       "      <th>1649</th>\n",
       "      <td>Business Intelligence Analyst</td>\n",
       "      <td>Business Analyst</td>\n",
       "      <td>Clio</td>\n",
       "      <td>Full-Time</td>\n",
       "      <td>Power BI, Data modeling, Business intelligence...</td>\n",
       "      <td>In-Person</td>\n",
       "      <td>Others</td>\n",
       "      <td>ANY</td>\n",
       "      <td>Vancouver</td>\n",
       "      <td>BC</td>\n",
       "      <td>86000.0</td>\n",
       "      <td>94000.0</td>\n",
       "      <td>90000.0</td>\n",
       "    </tr>\n",
       "    <tr>\n",
       "      <th>1650</th>\n",
       "      <td>Analyst, Supply Chain Replenishment</td>\n",
       "      <td>AI Analyst</td>\n",
       "      <td>Loblaw Companies Limited</td>\n",
       "      <td>Full-Time</td>\n",
       "      <td>SQL, SAP, Computer skills, Marketing, Workday</td>\n",
       "      <td>In-Person</td>\n",
       "      <td>Others</td>\n",
       "      <td>ANY</td>\n",
       "      <td>Brampton</td>\n",
       "      <td>ON</td>\n",
       "      <td>52000.0</td>\n",
       "      <td>59000.0</td>\n",
       "      <td>55500.0</td>\n",
       "    </tr>\n",
       "    <tr>\n",
       "      <th>1651</th>\n",
       "      <td>Project Controls Analyst</td>\n",
       "      <td>Analyst</td>\n",
       "      <td>Suncor Energy</td>\n",
       "      <td>Full-Time</td>\n",
       "      <td>Investment, Power BI, SQL, SAP, Office Suite</td>\n",
       "      <td>In-Person</td>\n",
       "      <td>Energy</td>\n",
       "      <td>ANY</td>\n",
       "      <td>Fort McMurray</td>\n",
       "      <td>AB</td>\n",
       "      <td>72000.0</td>\n",
       "      <td>153000.0</td>\n",
       "      <td>112500.0</td>\n",
       "    </tr>\n",
       "  </tbody>\n",
       "</table>\n",
       "<p>1652 rows × 13 columns</p>\n",
       "</div>"
      ],
      "text/plain": [
       "                                              Job Title          Position  \\\n",
       "0     Binance Accelerator Program - Data Analyst (Risk)      Data Analyst   \n",
       "1                                      Business Analyst  Business Analyst   \n",
       "2                             Geophysicist/Data Analyst      Data Analyst   \n",
       "3                   Business Intelligence Data Engineer     Data Engineer   \n",
       "4                  Business Intelligence Specialist, Ft  Business Analyst   \n",
       "...                                                 ...               ...   \n",
       "1647                                Im Business Analyst  Business Analyst   \n",
       "1648          Risk Analyst, Third Party Risk Management      Risk Analyst   \n",
       "1649                      Business Intelligence Analyst  Business Analyst   \n",
       "1650                Analyst, Supply Chain Replenishment        AI Analyst   \n",
       "1651                           Project Controls Analyst           Analyst   \n",
       "\n",
       "                            Company   Job Type  \\\n",
       "0                           Binance  Full-Time   \n",
       "1     Canadian Nuclear Laboratories  Full-Time   \n",
       "2         Sander Geophysics Limited  Full-Time   \n",
       "3             Maximus Services, LLC  Full-Time   \n",
       "4             Niagara Health System  Full-Time   \n",
       "...                             ...        ...   \n",
       "1647                          Messa  Full-Time   \n",
       "1648                          Aviva  Full-Time   \n",
       "1649                           Clio  Full-Time   \n",
       "1650       Loblaw Companies Limited  Full-Time   \n",
       "1651                  Suncor Energy  Full-Time   \n",
       "\n",
       "                                                  Skill  Work Type  \\\n",
       "0                                           Python, Sql     Remote   \n",
       "1                             Power Bi, Power BI, Excel     Remote   \n",
       "2                                                 Undef  In-Person   \n",
       "3     Fabric, Power BI, Sql, Machine Learning, Genes...  In-Person   \n",
       "4                             Azure, Power BI, SQL, Aws  In-Person   \n",
       "...                                                 ...        ...   \n",
       "1647                           Information architecture  In-Person   \n",
       "1648  SQL, Operational risk management, Vendor manag...  In-Person   \n",
       "1649  Power BI, Data modeling, Business intelligence...  In-Person   \n",
       "1650      SQL, SAP, Computer skills, Marketing, Workday  In-Person   \n",
       "1651       Investment, Power BI, SQL, SAP, Office Suite  In-Person   \n",
       "\n",
       "                Industry Type Seniority           City Province  Min Salary  \\\n",
       "0     Cryptocurrency Exchange       ANY         Remote    Undef    113750.0   \n",
       "1                    Research       ANY         Remote    Undef     79185.0   \n",
       "2                      Others       ANY         Ottawa       ON    116721.0   \n",
       "3                     Service       ANY        Toronto       ON     87875.0   \n",
       "4                  Healthcare    Senior        Niagara       ON    115211.0   \n",
       "...                       ...       ...            ...      ...         ...   \n",
       "1647                   Others       ANY         Ottawa       ON     67000.0   \n",
       "1648                   Others       ANY        Markham       ON     94000.0   \n",
       "1649                   Others       ANY      Vancouver       BC     86000.0   \n",
       "1650                   Others       ANY       Brampton       ON     52000.0   \n",
       "1651                   Energy       ANY  Fort McMurray       AB     72000.0   \n",
       "\n",
       "      Max Salary  Average Salary  \n",
       "0       140988.0        127369.0  \n",
       "1        97450.0         88317.5  \n",
       "2       121521.0        119121.0  \n",
       "3       105000.0         96437.5  \n",
       "4       130332.0        122771.5  \n",
       "...          ...             ...  \n",
       "1647    102000.0         84500.0  \n",
       "1648    110000.0        102000.0  \n",
       "1649     94000.0         90000.0  \n",
       "1650     59000.0         55500.0  \n",
       "1651    153000.0        112500.0  \n",
       "\n",
       "[1652 rows x 13 columns]"
      ]
     },
     "execution_count": 42,
     "metadata": {},
     "output_type": "execute_result"
    }
   ],
   "source": [
    "data"
   ]
  },
  {
   "cell_type": "code",
   "execution_count": 56,
   "id": "8897ac44-ba62-4a15-83b3-b06f1a5b860e",
   "metadata": {},
   "outputs": [],
   "source": [
    "data.to_csv('Fix_Cleaned_Dataset.csv', index = False)"
   ]
  },
  {
   "cell_type": "markdown",
   "id": "fffd6b9e-de3e-4b35-abcf-0d4e7dd9201c",
   "metadata": {},
   "source": [
    "![green-divider](https://user-images.githubusercontent.com/7065401/52071924-c003ad80-2562-11e9-8297-1c6595f8a7ff.png)\n",
    "\n",
    "### Exploratory Data Analysis"
   ]
  },
  {
   "cell_type": "markdown",
   "id": "cf3c983d-786f-4907-9e47-dcbb43f81e28",
   "metadata": {},
   "source": [
    "**The answer to this analysis problem can be seen in the Dashboard Interface GUI that has been created using custom Tkinter.**"
   ]
  },
  {
   "cell_type": "code",
   "execution_count": 1,
   "id": "c71dfe0b-43cd-4b11-b5e5-c245a0b1173a",
   "metadata": {},
   "outputs": [],
   "source": [
    "%run GUI_Development.py"
   ]
  },
  {
   "cell_type": "code",
   "execution_count": 1,
   "id": "28583fd1-367e-41d4-bc9c-87d25a1fbfed",
   "metadata": {},
   "outputs": [
    {
     "name": "stdout",
     "output_type": "stream",
     "text": [
      "Package                      Version\n",
      "---------------------------- -----------\n",
      "absl-py                      2.1.0\n",
      "asttokens                    3.0.0\n",
      "astunparse                   1.6.3\n",
      "certifi                      2024.8.30\n",
      "chardet                      4.0.0\n",
      "charset-normalizer           3.4.0\n",
      "colorama                     0.4.6\n",
      "comm                         0.2.2\n",
      "contourpy                    1.3.1\n",
      "customtkinter                5.2.2\n",
      "cycler                       0.12.1\n",
      "darkdetect                   0.8.0\n",
      "debugpy                      1.8.9\n",
      "decorator                    5.1.1\n",
      "exceptiongroup               1.2.2\n",
      "executing                    2.1.0\n",
      "flatbuffers                  24.3.25\n",
      "fonttools                    4.55.1\n",
      "gast                         0.6.0\n",
      "google-pasta                 0.2.0\n",
      "grpcio                       1.68.1\n",
      "h5py                         3.12.1\n",
      "idna                         2.10\n",
      "ipykernel                    6.29.5\n",
      "ipython                      8.30.0\n",
      "jedi                         0.19.2\n",
      "Jinja2                       3.0.1\n",
      "jupyter_client               8.6.3\n",
      "jupyter_core                 5.7.2\n",
      "keras                        3.7.0\n",
      "kiwisolver                   1.4.7\n",
      "libclang                     18.1.1\n",
      "Markdown                     3.7\n",
      "markdown-it-py               3.0.0\n",
      "MarkupSafe                   3.0.2\n",
      "matplotlib                   3.9.3\n",
      "matplotlib-inline            0.1.7\n",
      "mdurl                        0.1.2\n",
      "ml-dtypes                    0.4.1\n",
      "namex                        0.0.8\n",
      "nest-asyncio                 1.6.0\n",
      "numpy                        2.0.2\n",
      "opt_einsum                   3.4.0\n",
      "optree                       0.13.1\n",
      "packaging                    24.2\n",
      "pandas                       2.2.3\n",
      "parso                        0.8.4\n",
      "pathlib                      1.0.1\n",
      "Pillow                       8.4.0\n",
      "pip                          24.3.1\n",
      "platformdirs                 4.3.6\n",
      "prompt_toolkit               3.0.48\n",
      "protobuf                     5.29.1\n",
      "psutil                       6.1.0\n",
      "pure_eval                    0.2.3\n",
      "Pygments                     2.18.0\n",
      "pyparsing                    3.2.0\n",
      "python-dateutil              2.9.0.post0\n",
      "pytz                         2024.2\n",
      "pywin32                      308\n",
      "pyzmq                        26.2.0\n",
      "requests                     2.25.1\n",
      "rich                         13.9.4\n",
      "seaborn                      0.13.2\n",
      "setuptools                   57.4.0\n",
      "six                          1.17.0\n",
      "stack-data                   0.6.3\n",
      "tensorboard                  2.18.0\n",
      "tensorboard-data-server      0.7.2\n",
      "tensorflow                   2.18.0\n",
      "tensorflow_intel             2.18.0\n",
      "tensorflow-io-gcs-filesystem 0.31.0\n",
      "termcolor                    2.5.0\n",
      "tk                           0.1.0\n",
      "tkdesigner                   1.0.7\n",
      "tornado                      6.4.2\n",
      "traitlets                    5.14.3\n",
      "typing_extensions            4.12.2\n",
      "tzdata                       2024.2\n",
      "urllib3                      1.26.20\n",
      "wcwidth                      0.2.13\n",
      "Werkzeug                     3.1.3\n",
      "wheel                        0.45.1\n",
      "wrapt                        1.17.0\n",
      "Note: you may need to restart the kernel to use updated packages.\n"
     ]
    }
   ],
   "source": [
    "pip list"
   ]
  },
  {
   "cell_type": "code",
   "execution_count": null,
   "id": "197041ba-2de1-4047-af9c-62acdae4ffb4",
   "metadata": {},
   "outputs": [],
   "source": []
  }
 ],
 "metadata": {
  "kernelspec": {
   "display_name": "Python 3",
   "language": "python",
   "name": "python3"
  },
  "language_info": {
   "codemirror_mode": {
    "name": "ipython",
    "version": 3
   },
   "file_extension": ".py",
   "mimetype": "text/x-python",
   "name": "python",
   "nbconvert_exporter": "python",
   "pygments_lexer": "ipython3",
   "version": "3.10.0"
  }
 },
 "nbformat": 4,
 "nbformat_minor": 5
}
